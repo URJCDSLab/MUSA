{
 "cells": [
  {
   "cell_type": "code",
   "execution_count": 1,
   "metadata": {},
   "outputs": [],
   "source": [
    "import ratings_scraper\n",
    "import data_transformation\n",
    "import pandas as pd"
   ]
  },
  {
   "cell_type": "markdown",
   "metadata": {},
   "source": [
    "# Data download"
   ]
  },
  {
   "cell_type": "code",
   "execution_count": 2,
   "metadata": {},
   "outputs": [
    {
     "name": "stdout",
     "output_type": "stream",
     "text": [
      "End of the pages\n",
      "End of the pages\n"
     ]
    }
   ],
   "source": [
    "# league_id: La Liga = '8', \n",
    "# seasons_id: 23/24 ='52376', 22/23 = '42409', 21/22 = '37223'\n",
    "league = 'La Liga'\n",
    "season = '21/22'\n",
    "league_id = '8'\n",
    "season_id = '37223'\n",
    "\n",
    "league_matches_df = ratings_scraper.league_matches(league, season, league_id, season_id)\n",
    "league_table_df = ratings_scraper.read_league_table(league, season, league_id, season_id)\n",
    "league_ratings = ratings_scraper.scrape_ratings(league, season, league_id, season_id)\n",
    "\n",
    "league_ratings_df = data_transformation.ratings_to_dataframe(league_ratings)"
   ]
  },
  {
   "cell_type": "markdown",
   "metadata": {},
   "source": [
    "# Dataframe to Excel"
   ]
  },
  {
   "cell_type": "code",
   "execution_count": 56,
   "metadata": {},
   "outputs": [],
   "source": [
    "season = '21-22'\n",
    "league = 'laliga'\n",
    "\n",
    "league_matches_df.to_excel(f'partidos_{league}_{season}.xlsx', index=False)\n",
    "league_table_df.to_excel(f'clasificacion_{league}_{season}.xlsx', index=False)\n",
    "league_ratings_df.to_excel(f'ratings_{league}_{season}.xlsx', index=False)"
   ]
  }
 ],
 "metadata": {
  "kernelspec": {
   "display_name": "Python 3",
   "language": "python",
   "name": "python3"
  },
  "language_info": {
   "codemirror_mode": {
    "name": "ipython",
    "version": 3
   },
   "file_extension": ".py",
   "mimetype": "text/x-python",
   "name": "python",
   "nbconvert_exporter": "python",
   "pygments_lexer": "ipython3",
   "version": "3.12.4"
  }
 },
 "nbformat": 4,
 "nbformat_minor": 2
}
